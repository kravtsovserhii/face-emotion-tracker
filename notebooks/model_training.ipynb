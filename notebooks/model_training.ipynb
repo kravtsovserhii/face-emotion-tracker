{
 "cells": [
  {
   "cell_type": "code",
   "execution_count": 9,
   "metadata": {},
   "outputs": [],
   "source": [
    "import random\n",
    "import torch\n",
    "import torch.nn as nn\n",
    "import numpy as np\n",
    "import pandas as pd\n",
    "import matplotlib.pyplot as plt\n",
    "import os\n",
    "\n",
    "\n",
    "# Ensure deterministic behavior\n",
    "torch.backends.cudnn.deterministic = True\n",
    "random.seed(hash(\"setting random seeds\") % 2**32 - 1)\n",
    "np.random.seed(hash(\"improves reproducibility\") % 2**32 - 1)\n",
    "torch.manual_seed(hash(\"by removing stochasticity\") % 2**32 - 1)\n",
    "torch.cuda.manual_seed_all(hash(\"so runs are repeatable\") % 2**32 - 1)\n",
    "SEED = 36"
   ]
  },
  {
   "cell_type": "code",
   "execution_count": 10,
   "metadata": {},
   "outputs": [],
   "source": [
    "import torchmetrics\n",
    "from sklearn.utils.class_weight import compute_class_weight\n",
    "\n",
    "root_dir = 'data'\n",
    "labels_frame = pd.read_csv('data/labels.csv')\n",
    "\n",
    "class_weights = compute_class_weight('balanced', classes = labels_frame.label.unique(), y =labels_frame.label)\n",
    "class_weights = torch.tensor(class_weights, dtype=torch.float32)\n",
    "num_classes = len(class_weights)\n",
    "class_weights\n",
    "config = {\n",
    "    'num_classes': num_classes,\n",
    "    'batch_norm': True,\n",
    "    'batch_size': 64,\n",
    "    'learning_rate': 0.001,\n",
    "    'epochs': 1,\n",
    "    'b1':False,\n",
    "    'b2':False,\n",
    "    'root_dir': root_dir,\n",
    "    'annotation_path':'data/labels.csv',\n",
    "    'metric':torchmetrics.AUROC(num_classes=num_classes, task='multiclass'),\n",
    "    'loss_fn': nn.CrossEntropyLoss(weight=class_weights),\n",
    "    'in_channels': 3\n",
    "}"
   ]
  },
  {
   "cell_type": "code",
   "execution_count": 11,
   "metadata": {},
   "outputs": [
    {
     "data": {
      "text/plain": [
       "tensor([0.7630, 0.9761, 1.0144, 1.1574, 1.1759, 1.0857, 1.2310, 0.8122])"
      ]
     },
     "execution_count": 11,
     "metadata": {},
     "output_type": "execute_result"
    }
   ],
   "source": [
    "class_weights"
   ]
  },
  {
   "cell_type": "code",
   "execution_count": 12,
   "metadata": {},
   "outputs": [
    {
     "name": "stderr",
     "output_type": "stream",
     "text": [
      "Failed to detect the name of this notebook, you can set it manually with the WANDB_NOTEBOOK_NAME environment variable to enable code saving.\n",
      "\u001b[34m\u001b[1mwandb\u001b[0m: Currently logged in as: \u001b[33mserhiikravtsov\u001b[0m. Use \u001b[1m`wandb login --relogin`\u001b[0m to force relogin\n",
      "\u001b[34m\u001b[1mwandb\u001b[0m: \u001b[33mWARNING\u001b[0m If you're specifying your api key in code, ensure this code is not shared publicly.\n",
      "\u001b[34m\u001b[1mwandb\u001b[0m: \u001b[33mWARNING\u001b[0m Consider setting the WANDB_API_KEY environment variable, or running `wandb login` from the command line.\n",
      "\u001b[34m\u001b[1mwandb\u001b[0m: Appending key for api.wandb.ai to your netrc file: C:\\Users\\serhii.kravtsov\\.netrc\n"
     ]
    },
    {
     "data": {
      "text/plain": [
       "True"
      ]
     },
     "execution_count": 12,
     "metadata": {},
     "output_type": "execute_result"
    }
   ],
   "source": [
    "import wandb\n",
    "WANDB_API_KEY = os.environ.get('WANDB_API_KEY')\n",
    "wandb.login(key=WANDB_API_KEY)"
   ]
  },
  {
   "cell_type": "code",
   "execution_count": 13,
   "metadata": {},
   "outputs": [],
   "source": [
    "from pytorch_lightning import Trainer\n",
    "from pytorch_lightning.loggers import WandbLogger\n",
    "from pytorch_lightning.callbacks import ModelCheckpoint, EarlyStopping\n",
    "from models.lightning_effnet import EmotionClassifier\n",
    "from notebooks.lightning_datamodule import EmotionDataModule\n",
    "\n",
    "def run_train(config):\n",
    "    run_name = f\"effnet_{config['batch_size']}_{config['learning_rate']}_{config['epochs']}\"\n",
    "    wandb.init(project='emotion-recognition', name=run_name, config=config)\n",
    "    wandb_logger = WandbLogger()\n",
    "    model = EmotionClassifier(config)\n",
    "    checkpoint_callback = ModelCheckpoint(\n",
    "        monitor='val_loss',\n",
    "        dirpath='models',\n",
    "        filename='emotion_classification_model',\n",
    "        mode='min',\n",
    "    )\n",
    "    early_stop_callback = EarlyStopping(\n",
    "        monitor='val_loss',\n",
    "        patience=15,\n",
    "        verbose=True,\n",
    "        mode='min'\n",
    "    )\n",
    "    trainer = Trainer(max_epochs=config['epochs'], logger=wandb_logger, enable_progress_bar=True,\n",
    "        enable_checkpointing = True, callbacks=[checkpoint_callback, early_stop_callback])\n",
    "    annotations_frame = pd.read_csv(config.get('annotation_path'), index_col=0)\n",
    "    dm = EmotionDataModule(config.get('root_dir'), annotations_frame, config['batch_size'])\n",
    "    dm.setup(stage='fit')\n",
    "    trainer.fit(model, dm)\n",
    "    dm.setup(stage='test')\n",
    "    model = EmotionClassifier.load_from_checkpoint(checkpoint_callback.best_model_path, config=config)\n",
    "    trainer.test(model, dm)\n",
    "    wandb.finish()"
   ]
  },
  {
   "cell_type": "code",
   "execution_count": 14,
   "metadata": {},
   "outputs": [
    {
     "data": {
      "text/html": [
       "Tracking run with wandb version 0.17.4"
      ],
      "text/plain": [
       "<IPython.core.display.HTML object>"
      ]
     },
     "metadata": {},
     "output_type": "display_data"
    },
    {
     "data": {
      "text/html": [
       "Run data is saved locally in <code>d:\\projects\\face-emotion-tracker\\wandb\\run-20240710_142907-yjhgwb0t</code>"
      ],
      "text/plain": [
       "<IPython.core.display.HTML object>"
      ]
     },
     "metadata": {},
     "output_type": "display_data"
    },
    {
     "data": {
      "text/html": [
       "Syncing run <strong><a href='https://wandb.ai/serhiikravtsov/emotion-recognition/runs/yjhgwb0t' target=\"_blank\">effnet_64_0.001_1</a></strong> to <a href='https://wandb.ai/serhiikravtsov/emotion-recognition' target=\"_blank\">Weights & Biases</a> (<a href='https://wandb.me/run' target=\"_blank\">docs</a>)<br/>"
      ],
      "text/plain": [
       "<IPython.core.display.HTML object>"
      ]
     },
     "metadata": {},
     "output_type": "display_data"
    },
    {
     "data": {
      "text/html": [
       " View project at <a href='https://wandb.ai/serhiikravtsov/emotion-recognition' target=\"_blank\">https://wandb.ai/serhiikravtsov/emotion-recognition</a>"
      ],
      "text/plain": [
       "<IPython.core.display.HTML object>"
      ]
     },
     "metadata": {},
     "output_type": "display_data"
    },
    {
     "data": {
      "text/html": [
       " View run at <a href='https://wandb.ai/serhiikravtsov/emotion-recognition/runs/yjhgwb0t' target=\"_blank\">https://wandb.ai/serhiikravtsov/emotion-recognition/runs/yjhgwb0t</a>"
      ],
      "text/plain": [
       "<IPython.core.display.HTML object>"
      ]
     },
     "metadata": {},
     "output_type": "display_data"
    },
    {
     "name": "stderr",
     "output_type": "stream",
     "text": [
      "GPU available: True (cuda), used: True\n",
      "TPU available: False, using: 0 TPU cores\n",
      "HPU available: False, using: 0 HPUs\n",
      "You are using a CUDA device ('NVIDIA GeForce RTX 3050 Laptop GPU') that has Tensor Cores. To properly utilize them, you should set `torch.set_float32_matmul_precision('medium' | 'high')` which will trade-off precision for performance. For more details, read https://pytorch.org/docs/stable/generated/torch.set_float32_matmul_precision.html#torch.set_float32_matmul_precision\n",
      "d:\\projects\\face-emotion-tracker\\venv\\Lib\\site-packages\\pytorch_lightning\\loggers\\wandb.py:396: There is a wandb run already in progress and newly created instances of `WandbLogger` will reuse this run. If this is not desired, call `wandb.finish()` before instantiating `WandbLogger`.\n",
      "d:\\projects\\face-emotion-tracker\\venv\\Lib\\site-packages\\pytorch_lightning\\callbacks\\model_checkpoint.py:652: Checkpoint directory D:\\projects\\face-emotion-tracker\\models exists and is not empty.\n",
      "LOCAL_RANK: 0 - CUDA_VISIBLE_DEVICES: [0]\n",
      "d:\\projects\\face-emotion-tracker\\venv\\Lib\\site-packages\\torch\\optim\\lr_scheduler.py:28: UserWarning: The verbose parameter is deprecated. Please use get_last_lr() to access the learning rate.\n",
      "  warnings.warn(\"The verbose parameter is deprecated. Please use get_last_lr() \"\n",
      "\n",
      "  | Name           | Type             | Params | Mode \n",
      "------------------------------------------------------------\n",
      "0 | loss_fn        | CrossEntropyLoss | 0      | train\n",
      "1 | metric         | MulticlassAUROC  | 0      | train\n",
      "2 | model          | EfficientNet     | 4.0 M  | train\n",
      "3 | classification | Sequential       | 10.2 K | train\n",
      "------------------------------------------------------------\n",
      "4.0 M     Trainable params\n",
      "0         Non-trainable params\n",
      "4.0 M     Total params\n",
      "16.071    Total estimated model params size (MB)\n"
     ]
    },
    {
     "name": "stdout",
     "output_type": "stream",
     "text": [
      "Sanity Checking: |          | 0/? [00:00<?, ?it/s]"
     ]
    },
    {
     "name": "stderr",
     "output_type": "stream",
     "text": [
      "d:\\projects\\face-emotion-tracker\\venv\\Lib\\site-packages\\pytorch_lightning\\trainer\\connectors\\data_connector.py:419: Consider setting `persistent_workers=True` in 'val_dataloader' to speed up the dataloader worker initialization.\n"
     ]
    }
   ],
   "source": [
    "\n",
    "run_train(config)"
   ]
  }
 ],
 "metadata": {
  "kernelspec": {
   "display_name": "venv",
   "language": "python",
   "name": "python3"
  },
  "language_info": {
   "codemirror_mode": {
    "name": "ipython",
    "version": 3
   },
   "file_extension": ".py",
   "mimetype": "text/x-python",
   "name": "python",
   "nbconvert_exporter": "python",
   "pygments_lexer": "ipython3",
   "version": "3.11.7"
  }
 },
 "nbformat": 4,
 "nbformat_minor": 2
}
